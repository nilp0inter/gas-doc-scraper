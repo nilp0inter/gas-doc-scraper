{
 "cells": [
  {
   "cell_type": "code",
   "execution_count": 1,
   "id": "presidential-bunch",
   "metadata": {},
   "outputs": [],
   "source": [
    "import jinja2"
   ]
  },
  {
   "cell_type": "code",
   "execution_count": 2,
   "id": "virtual-training",
   "metadata": {},
   "outputs": [],
   "source": [
    "import json\n",
    "from collections import defaultdict\n",
    "import os\n",
    "import os.path\n",
    "\n",
    "Tree = lambda: defaultdict(lambda: Tree())\n",
    "data = json.load(open('gasapi3.json'))\n",
    "JS_TYPES_PS_IMPORTS = {\n",
    "    'void': ((\"Prelude\", ), \"Unit\"),\n",
    "    'String': None,\n",
    "    'Integer': None,\n",
    "    'Object': ((\"Foreign\", ), \"Foreign\"),\n",
    "    'Boolean': None,\n",
    "    'Byte': ((\"Foreign\", ), \"Foreign\"),\n",
    "    'Number': None,\n",
    "    'Date': ((\"Data\", \"JSDate\"), \"JSDate\"),\n",
    "    'BigNumber': ((\"Foreign\", ), \"Foreign\"),\n",
    "    'TargetAudience': ((\"Foreign\", ), \"Foreign\"),\n",
    "    'TimeInterval': ((\"Foreign\", ), \"Foreign\"),\n",
    "    'Char': None}\n",
    "TOP_LEVEL = {\n",
    "    # Apps\n",
    "    \"CalendarApp\",\n",
    "    \"ContactsApp\",\n",
    "    \"DataStudioApp\",\n",
    "    \"DocumentApp\",\n",
    "    \"DriveApp\",\n",
    "    \"FormApp\",\n",
    "    \"GmailApp\",\n",
    "    \"GroupsApp\",\n",
    "    \"LanguageApp\",\n",
    "    \"MailApp\",\n",
    "    \"ScriptApp\",\n",
    "    \"SitesApp\",\n",
    "    \"SlidesApp\",\n",
    "    \"SpreadsheetApp\",\n",
    "    \"UrlFetchApp\",\n",
    "    \"UrlFetchApp\",\n",
    "    \n",
    "    # Services\n",
    "    \"CacheService\",\n",
    "    \"CardService\",\n",
    "    \"ConferenceDataService\",\n",
    "    \"ContentService\",\n",
    "    \"HtmlService\",\n",
    "    \"HtmlService\",\n",
    "    \"LinearOptimizationService\",\n",
    "    \"LockService\",\n",
    "    \"LockService\",\n",
    "    \"PropertiesService\",\n",
    "    \"XmlService\",\n",
    "    \n",
    "    # Others\n",
    "    \"Charts\",\n",
    "    \"Utilities\",\n",
    "    \"Maps\"\n",
    "\n",
    "}"
   ]
  },
  {
   "cell_type": "code",
   "execution_count": 3,
   "id": "seven-tolerance",
   "metadata": {},
   "outputs": [],
   "source": [
    "def render_js_method(m, c, base_type):\n",
    "    c = str(c) if c>1 else \"\"\n",
    "    base_object = js_type_to_param_name(base_type)\n",
    "    name = m['name']\n",
    "    wparams = \", \".join([p['name'] for p in m['parameters']] + [base_object])\n",
    "    fparams = \", \".join([p['name'] for p in m['parameters']])\n",
    "    pssign = \" -> \".join([js_type_to_ps_type(p['type']) for p in m['parameters']] + [base_type, f\"Effect {js_type_to_ps_type(m['result'])}\"])\n",
    "    return f\"\"\"\n",
    "exports.{name}{c}Impl = function({wparams}) {{\n",
    "    return function () {{\n",
    "        return {base_object}.{name}({fparams});\n",
    "    }}\n",
    "}}  // {pssign}\n",
    "\"\"\""
   ]
  },
  {
   "cell_type": "code",
   "execution_count": 4,
   "id": "parliamentary-facing",
   "metadata": {},
   "outputs": [],
   "source": [
    "def js_type_to_param_name(p):\n",
    "    return \"_\" + p.lower()"
   ]
  },
  {
   "cell_type": "code",
   "execution_count": 5,
   "id": "eight-status",
   "metadata": {},
   "outputs": [],
   "source": [
    "def js_type_to_ps_type(t):\n",
    "    if t.endswith('[]'):\n",
    "        return f\"(Array {js_type_to_ps_type(t[:-2])})\"\n",
    "    return {\n",
    "        \"void\": \"Unit\",\n",
    "        \"Integer\": \"Int\",\n",
    "        \"Object\": \"Foreign\",\n",
    "        \"Date\": \"JSDate\",\n",
    "        \"TargetAudience\": \"Foreign\",\n",
    "        \"TimeInterval\": \"Foreign\",\n",
    "        \"Byte\": \"Foreign\",\n",
    "        \"BigNumber\": \"Foreign\"\n",
    "    }.get(t, to_ps_type(t))"
   ]
  },
  {
   "cell_type": "code",
   "execution_count": 6,
   "id": "covered-cooperative",
   "metadata": {},
   "outputs": [],
   "source": [
    "def string_to_ps_doc(s):\n",
    "    return '\\n'.join('-- | ' + d for d in s.split('\\n'))"
   ]
  },
  {
   "cell_type": "code",
   "execution_count": 7,
   "id": "appropriate-entity",
   "metadata": {},
   "outputs": [],
   "source": [
    "def render_ps_funcs(m, c, base_type):\n",
    "    c = str(c) if c>1 else \"\"\n",
    "    base_object = js_type_to_param_name(base_type)\n",
    "    name = m['name']\n",
    "    pstypes = list(map(js_type_to_ps_type, [p['type'] for p in m['parameters']] + [base_type, m['result']]))\n",
    "    pssign = \" -> \".join(pstypes[:-1] + [f\"Effect {pstypes[-1]}\"])\n",
    "    doc = string_to_ps_doc(m['description'])\n",
    "    return f\"\"\"\n",
    "\n",
    "foreign import {name}{c}Impl :: EffectFn{len(pstypes) - 1} {\" \".join(pstypes)}\n",
    "\n",
    "{doc}\n",
    "{name}{c} :: {pssign}\n",
    "{name}{c} = runEffectFn{len(pstypes) - 1} {name}{c}Impl\n",
    "\"\"\"\n",
    "# print(render_ps_funcs(data[3]['methods'][4], 1, 'UrlField'))"
   ]
  },
  {
   "cell_type": "code",
   "execution_count": 8,
   "id": "photographic-demographic",
   "metadata": {},
   "outputs": [],
   "source": [
    "def get_parts_from_url(url):\n",
    "    if '#' in url:\n",
    "        url = url[:url.index('#')]\n",
    "    if url.endswith('.html'):\n",
    "        url = url[:-len('.html')]\n",
    "    parts = url.split('/')\n",
    "    parts = parts[parts.index('reference')+1:]\n",
    "    return tuple(parts)"
   ]
  },
  {
   "cell_type": "code",
   "execution_count": 9,
   "id": "taken-staff",
   "metadata": {},
   "outputs": [],
   "source": [
    "def to_camel_case(s):\n",
    "    return ''.join(word.title() for word in s.split('-'))"
   ]
  },
  {
   "cell_type": "code",
   "execution_count": 10,
   "id": "grand-martin",
   "metadata": {},
   "outputs": [],
   "source": [
    "def constant_to_camel_case(s):\n",
    "    s=''.join(word.title() for word in s.split('_'))\n",
    "    return s[0].lower() + s[1:]"
   ]
  },
  {
   "cell_type": "code",
   "execution_count": 11,
   "id": "final-workshop",
   "metadata": {},
   "outputs": [],
   "source": [
    "def constant_to_full_camel_case(s):\n",
    "    return ''.join(word.title() for word in s.split('_'))"
   ]
  },
  {
   "cell_type": "code",
   "execution_count": 12,
   "id": "double-cassette",
   "metadata": {},
   "outputs": [],
   "source": [
    "def to_module(ps):\n",
    "    return '.'.join(to_camel_case(p) for p in ps)"
   ]
  },
  {
   "cell_type": "code",
   "execution_count": 13,
   "id": "stainless-advocate",
   "metadata": {},
   "outputs": [],
   "source": [
    "RESERVED = {\"Type\"}\n",
    "\n",
    "def to_ps_type(s):\n",
    "    s = s[0].upper() + s[1:]\n",
    "    if s in RESERVED:\n",
    "        s = s+\"_\"\n",
    "    return s"
   ]
  },
  {
   "cell_type": "code",
   "execution_count": 14,
   "id": "wired-calculator",
   "metadata": {},
   "outputs": [],
   "source": [
    "def manual_resolve_import(t, base, imports, pb):\n",
    "    if t == \"Position\":\n",
    "        return tuple(pb) + (\"Charts\", \"Position\", \"Type\")\n",
    "    if t == \"Document\":\n",
    "        return tuple(pb) + (\"Document\", \"Document\", \"Type\")\n"
   ]
  },
  {
   "cell_type": "code",
   "execution_count": 15,
   "id": "premier-appointment",
   "metadata": {},
   "outputs": [],
   "source": [
    "def get_needed_imports_for_type(t, base, imports, pb):\n",
    "    if t.endswith('[]'):\n",
    "        return get_needed_imports_for_type(t[:-2], base, imports, pb)\n",
    "    if t.endswith('...'):\n",
    "        return get_needed_imports_for_type(t[:-3], base, imports, pb)\n",
    "    if t in JS_TYPES_PS_IMPORTS:\n",
    "        return JS_TYPES_PS_IMPORTS[t]\n",
    "    if t.upper() == base[-1].upper():\n",
    "        return  # No need to import this very module\n",
    "    idict = {k.upper(): k for k in imports.keys()}\n",
    "    if t.upper() in idict:\n",
    "        lp = idict[t.upper()]\n",
    "        parent_candidates = set(imports[idict[t.upper()]].keys())\n",
    "        if not parent_candidates:\n",
    "            print(f\"No candidate imports for {t} in {base} with imports={list(sorted(imports.keys()))}\")\n",
    "            return (tuple(), t)\n",
    "        elif len(parent_candidates) == 1:  # Only choice wins\n",
    "            return (tuple(pb) + tuple(parent_candidates) + (lp, \"Type\"), t)\n",
    "        if base[-2].upper() in [s.upper() for s in parent_candidates]:  # Same parent is best guess\n",
    "            return (tuple(pb) + (base[-2], lp, \"Type\"), t)\n",
    "        elif \"Base\" in parent_candidates:  # Is maybe in Base?\n",
    "            return (tuple(pb) + (\"Base\", lp, \"Type\"), t)\n",
    "        elif \"Utilities\" in parent_candidates:  # Maybe in Utilities?\n",
    "            return (tuple(pb) + (\"Utilities\", lp, \"Type\"), t)\n",
    "        elif (imp := manual_resolve_import(t, base, imports, pb)) is not None:\n",
    "            return (imp, t)\n",
    "        else:\n",
    "            print(f\"I don't know where {t} is for {base} where parents are {parent_candidates}\")\n",
    "            return (tuple(), t)\n",
    "    else:\n",
    "        print(f\"Type definition not found for {t} in {base}\")\n",
    "        return (tuple(), t)"
   ]
  },
  {
   "cell_type": "code",
   "execution_count": 16,
   "id": "backed-spider",
   "metadata": {},
   "outputs": [],
   "source": [
    "def render_class(baseparts, e, imports):\n",
    "    parts = get_parts_from_url(e['url'])\n",
    "    filespath = os.path.join(*baseparts, *map(to_camel_case, parts))\n",
    "    ps_methods_imports = f\"\"\"module {'.'.join([*baseparts, to_module(parts + ('Methods', ))])} where\n",
    "import Effect.Uncurried\n",
    "import Effect (Effect)\n",
    "\n",
    "import {'.'.join([*baseparts, to_module(parts + ('Type', ))])} ({to_ps_type(e['name'])})\n",
    "\n",
    "\"\"\"\n",
    "    ps_methods = \"\"\n",
    "    ps_type = f\"module {'.'.join([*baseparts, to_module(parts + ('Type', ))])} where\\n\\n\"\n",
    "    js_methods = '\"use strict\";\\n'\n",
    "\n",
    "    cs = defaultdict(lambda: 0)\n",
    "    needed_imports = set()\n",
    "    for m in e['methods']:\n",
    "        if any('...' in p['type'] for p in m['parameters']):\n",
    "            continue\n",
    "        cs[m['name']] += 1\n",
    "        js_methods += render_js_method(m, cs[m['name']], e['name'])\n",
    "        ps_methods += render_ps_funcs(m, cs[m['name']], e['name'])\n",
    "        for t in [p['type'] for p in m['parameters']] + [m['result']]:\n",
    "            if (imp := get_needed_imports_for_type(t, tuple(map(to_camel_case, parts)), imports, baseparts)) is not None:\n",
    "                needed_imports.add(imp)\n",
    "\n",
    "    for (moduleparts, name) in sorted(needed_imports):\n",
    "        if moduleparts:\n",
    "            ps_methods_imports += f\"import {'.'.join(moduleparts)} ({to_ps_type(name)}, {name.lower()}PS2JS, {name.lower()}JS2PS)\\n\"\n",
    "        else:\n",
    "            ps_methods_imports += f\"-- TODO: Add missing import for type ({name})\\n\"\n",
    "\n",
    "    ps_type += f\"\"\"\n",
    "foreign import data {to_ps_type(e['name'])} :: Type\n",
    "\"\"\"\n",
    "    result = {os.path.join(filespath, 'Methods.js'): js_methods,\n",
    "              os.path.join(filespath, 'Methods.purs'): ps_methods_imports + ps_methods,\n",
    "             }\n",
    "    if e['name'] in TOP_LEVEL:\n",
    "        js_type = f'''\"use strict\";\n",
    "exports.{e['name'].lower()} = {e['name']};\n",
    "'''\n",
    "        ps_type += f'''foreign import {e['name'].lower()} :: {to_ps_type(e['name'])}\n",
    "'''\n",
    "        result[os.path.join(filespath, 'Type.js')] = js_type\n",
    "\n",
    "    result[os.path.join(filespath, 'Type.purs')] = ps_type\n",
    "    \n",
    "    return result"
   ]
  },
  {
   "cell_type": "code",
   "execution_count": 17,
   "id": "tamil-three",
   "metadata": {},
   "outputs": [],
   "source": [
    "def render_ps_enum(e, enums_parents):\n",
    "    fn_name = f\"{constant_to_camel_case(e['name'])}Members\"\n",
    "    type_name = e['name']\n",
    "    elems = ', '.join(constant_to_full_camel_case(p['name']) for p in e['properties'])\n",
    "    return jinja2.Template(\n",
    "\"\"\"foreign import {{constant_to_camel_case(e['name'])}}JS2PSImpl :: Fn3 (Array {{type_name}}) {{e['name']}}Impl {{type_name}}\n",
    "{{constant_to_camel_case(e['name'])}}JS2PS :: {{e['name']}}Impl -> {{type_name}}\n",
    "{{constant_to_camel_case(e['name'])}}JS2PS = runFn3 {{constant_to_camel_case(e['name'])}}JS2PSImpl {{fn_name}}\n",
    "where\n",
    "  {{fn_name}} :: Array {{type_name}}\n",
    "  {{fn_name}} = [{{elems}}]\n",
    "\n",
    "{% for p in e['properties'] -%}\n",
    "foreign import data {{constant_to_camel_case(p['name'])}} :: {{e['name']}}Impl\n",
    "{% endfor %}\n",
    "\n",
    "{{constant_to_camel_case(e['name'])}}PS2JS :: {{type_name}} -> {{e['name']}}Impl\n",
    "{%- for p in e['properties'] %}\n",
    "{{constant_to_camel_case(e['name'])}}PS2JS {{constant_to_full_camel_case(p['name'])}} = {{constant_to_camel_case(p['name'])}}\n",
    "{%- endfor %}\n",
    "\"\"\").render(e=e, type_name=type_name, fn_name=fn_name, elems=elems, constant_to_camel_case=constant_to_camel_case, constant_to_full_camel_case=constant_to_full_camel_case)"
   ]
  },
  {
   "cell_type": "code",
   "execution_count": 18,
   "id": "residential-snowboard",
   "metadata": {},
   "outputs": [],
   "source": [
    "def render_js_enum(p, e, enums_parents):\n",
    "    parts = get_parts_from_url(e['url'])\n",
    "    parent = enums_parents.get(parts, {})\n",
    "    if parent and parent['parent_name'] in TOP_LEVEL:\n",
    "        return f\"\"\"\n",
    "exports.{constant_to_camel_case(p['name'])} = {parent['parent_name']}.{e['name']}.{p['name']}\n",
    "\"\"\"\n",
    "    else:\n",
    "        return \"\""
   ]
  },
  {
   "cell_type": "code",
   "execution_count": 19,
   "id": "stuffed-dispute",
   "metadata": {},
   "outputs": [],
   "source": [
    "def render_ps_enum_type(e):\n",
    "    constructors = '\\n  | '.join(constant_to_full_camel_case(p['name']) for p in e['properties'])\n",
    "    return f\"\"\"data {e['name']} =\n",
    "    {constructors}\n",
    "\"\"\""
   ]
  },
  {
   "cell_type": "code",
   "execution_count": 20,
   "id": "floppy-canberra",
   "metadata": {},
   "outputs": [],
   "source": [
    "def enum_js_to_ps(e, enums_parents):\n",
    "    parts = get_parts_from_url(e['url'])\n",
    "    parent = enums_parents.get(parts, {})\n",
    "    if parent and parent['parent_name'] in TOP_LEVEL:\n",
    "        return jinja2.Template(\"\"\"\n",
    "export.{{constant_to_camel_case(e['name'])}}JS2PSImpl = function (a, v) {\n",
    "    switch (v) {\n",
    "    {%- for p in e['properties'] %}\n",
    "      case {{parent}}.{{e['name']}}.{{p['name']}}:\n",
    "        return a[{{loop.index0}}];\n",
    "    {% endfor -%}\n",
    "    }\n",
    "}\"\"\").render(e=e, parent=parent['parent_name'], constant_to_camel_case=constant_to_camel_case)\n",
    "    else:\n",
    "        print(f\"No way! {e['name']}: {e['url']}\")\n",
    "        return jinja2.Template(\"\"\"\n",
    "export.{{constant_to_camel_case(e['name'])}}JS2PSImpl = function (a, p, v) {\n",
    "    switch (v) {\n",
    "    {%- for p in e['properties'] %}\n",
    "      case p.{{e['name']}}.{{p['name']}}:\n",
    "        return a[{{loop.index0}}];\n",
    "    {% endfor -%}\n",
    "    }\n",
    "}\"\"\").render(e=e, constant_to_camel_case=constant_to_camel_case)"
   ]
  },
  {
   "cell_type": "code",
   "execution_count": 21,
   "id": "difficult-racing",
   "metadata": {},
   "outputs": [],
   "source": [
    "def render_enum(baseparts, e, enums_parents):\n",
    "    parts = get_parts_from_url(e['url'])\n",
    "    filespath = os.path.join(*baseparts, *map(to_camel_case, parts))\n",
    "    type_module_name = '.'.join([*baseparts, to_module(parts + ('Type',))])\n",
    "    ps_type = f\"\"\"module {type_module_name} where\n",
    "\n",
    "foreign import data {to_ps_type(e['name'])}Impl :: Type\n",
    "\n",
    "{render_ps_enum_type(e)}\n",
    "\n",
    "{render_ps_enum(e, enums_parents)}\n",
    "\n",
    "\"\"\"\n",
    "    js = f'''\n",
    "\"use strict\";\n",
    "\n",
    "{enum_js_to_ps(e, enums_parents)}\n",
    "\n",
    "\n",
    "'''\n",
    "\n",
    "    return {os.path.join(filespath, 'Type.js'): js,\n",
    "            os.path.join(filespath, 'Type.purs'): ps_type}"
   ]
  },
  {
   "cell_type": "code",
   "execution_count": 22,
   "id": "better-fitting",
   "metadata": {},
   "outputs": [],
   "source": [
    "def render_entry(baseparts, e, enums_parents, imports):\n",
    "    if e['type'] in (\"class\", \"interface\"):\n",
    "        return render_class(baseparts, e, imports)\n",
    "    elif e['type'] == \"enum\":\n",
    "        return render_enum(baseparts, e, enums_parents)\n",
    "    else:\n",
    "        return None"
   ]
  },
  {
   "cell_type": "code",
   "execution_count": 23,
   "id": "bottom-spanish",
   "metadata": {},
   "outputs": [],
   "source": [
    "def get_enums_parents(es):\n",
    "    for e in es:\n",
    "        if e['type'] not in ('class', 'interface'):\n",
    "            continue\n",
    "        for p in e['properties']:\n",
    "            yield (get_parts_from_url(p['url']), {'parent_url': get_parts_from_url(e['url']), 'parent_name': e['name'], 'parent_type': e['type'], **p})"
   ]
  },
  {
   "cell_type": "code",
   "execution_count": 24,
   "id": "multiple-picture",
   "metadata": {},
   "outputs": [],
   "source": [
    "def get_imports_backtree(es):\n",
    "    tr = t = Tree()\n",
    "    for e in es:\n",
    "        parts = map(to_camel_case, get_parts_from_url(e['url']))\n",
    "        for p in reversed(list(parts)):\n",
    "            t = t[p]\n",
    "        t = tr\n",
    "    return tr"
   ]
  },
  {
   "cell_type": "code",
   "execution_count": 25,
   "id": "incorporate-cambodia",
   "metadata": {},
   "outputs": [],
   "source": [
    "def render_entries(baseparts, es):\n",
    "    enums_parents = dict(get_enums_parents(data))\n",
    "    imports = get_imports_backtree(data)\n",
    "    files = dict()\n",
    "    for e in es:\n",
    "        \n",
    "        if (r := render_entry(baseparts, e, enums_parents, imports)) is not None:\n",
    "            files.update(r)\n",
    "    return files"
   ]
  },
  {
   "cell_type": "code",
   "execution_count": 26,
   "id": "assured-beast",
   "metadata": {
    "scrolled": false
   },
   "outputs": [
    {
     "name": "stdout",
     "output_type": "stream",
     "text": [
      "No way! PickerValuesLayout: https://developers.google.com/apps-script/reference/charts/picker-values-layout\n",
      "No way! MatchType: https://developers.google.com/apps-script/reference/charts/match-type\n",
      "No way! Orientation: https://developers.google.com/apps-script/reference/charts/orientation\n",
      "No way! SwitchControlType: https://developers.google.com/apps-script/reference/card-service/switch-control-type\n",
      "No way! DisplayStyle: https://developers.google.com/apps-script/reference/card-service/display-style\n",
      "No way! Button: https://developers.google.com/apps-script/reference/base/button\n",
      "No way! ButtonSet: https://developers.google.com/apps-script/reference/base/button-set\n",
      "No way! MimeType: https://developers.google.com/apps-script/reference/base/mime-type\n",
      "No way! Type: https://developers.google.com/apps-script/reference/maps/type\n",
      "No way! MarkerSize: https://developers.google.com/apps-script/reference/maps/marker-size\n",
      "No way! Format: https://developers.google.com/apps-script/reference/maps/format\n",
      "No way! Mode: https://developers.google.com/apps-script/reference/maps/mode\n",
      "No way! Avoid: https://developers.google.com/apps-script/reference/maps/avoid\n",
      "No way! Color: https://developers.google.com/apps-script/reference/maps/color\n",
      "No way! FieldType: https://developers.google.com/apps-script/reference/data-studio/field-type\n",
      "No way! BigQueryParameterType: https://developers.google.com/apps-script/reference/data-studio/big-query-parameter-type\n",
      "No way! AggregationType: https://developers.google.com/apps-script/reference/data-studio/aggregation-type\n",
      "No way! AuthType: https://developers.google.com/apps-script/reference/data-studio/auth-type\n"
     ]
    }
   ],
   "source": [
    "files = render_entries(('Google', 'AppsScript'), data)\n",
    "for filename, content in files.items():\n",
    "    os.makedirs(os.path.dirname(filename), exist_ok=True)\n",
    "    with open(filename, \"w\") as f:\n",
    "        f.write(content)"
   ]
  },
  {
   "cell_type": "code",
   "execution_count": 27,
   "id": "bulgarian-dialogue",
   "metadata": {},
   "outputs": [
    {
     "data": {
      "text/plain": [
       "'ase.js'"
      ]
     },
     "execution_count": 27,
     "metadata": {},
     "output_type": "execute_result"
    }
   ],
   "source": [
    "os.path.basename('/hole/que/ase.js')"
   ]
  },
  {
   "cell_type": "code",
   "execution_count": 28,
   "id": "innocent-transcript",
   "metadata": {},
   "outputs": [],
   "source": [
    "import humps"
   ]
  },
  {
   "cell_type": "code",
   "execution_count": 29,
   "id": "dense-league",
   "metadata": {},
   "outputs": [
    {
     "data": {
      "text/plain": [
       "'THIS_IS_A_CONSTANT'"
      ]
     },
     "execution_count": 29,
     "metadata": {},
     "output_type": "execute_result"
    }
   ],
   "source": [
    "humps.camelize(\"THIS_IS_A_CONSTANT\")"
   ]
  },
  {
   "cell_type": "code",
   "execution_count": 30,
   "id": "stretch-inclusion",
   "metadata": {},
   "outputs": [
    {
     "name": "stdout",
     "output_type": "stream",
     "text": [
      "XmlService\n",
      "UrlFetchApp\n",
      "Service\n",
      "ScriptApp\n",
      "PropertiesService\n",
      "MailApp\n",
      "LinearOptimizationService\n",
      "LockService\n",
      "HtmlService\n",
      "HtmlService\n",
      "ContentService\n",
      "ConferenceDataService\n",
      "UrlFetchApp\n",
      "CacheService\n",
      "CardService\n",
      "LockService\n",
      "SpreadsheetApp\n",
      "SlidesApp\n",
      "SitesApp\n",
      "LanguageApp\n",
      "GroupsApp\n",
      "GmailApp\n",
      "FormApp\n",
      "DriveApp\n",
      "DocumentApp\n",
      "DataStudioApp\n",
      "ContactsApp\n",
      "CalendarApp\n"
     ]
    }
   ],
   "source": [
    "for a in data:\n",
    "    if a['type'] == 'class' and (a['name'].endswith('App') or a['name'].endswith('Service')):\n",
    "        print(a['name'])"
   ]
  },
  {
   "cell_type": "code",
   "execution_count": null,
   "id": "checked-compensation",
   "metadata": {},
   "outputs": [],
   "source": []
  }
 ],
 "metadata": {
  "kernelspec": {
   "display_name": "Python 3",
   "language": "python",
   "name": "python3"
  },
  "language_info": {
   "codemirror_mode": {
    "name": "ipython",
    "version": 3
   },
   "file_extension": ".py",
   "mimetype": "text/x-python",
   "name": "python",
   "nbconvert_exporter": "python",
   "pygments_lexer": "ipython3",
   "version": "3.9.2"
  }
 },
 "nbformat": 4,
 "nbformat_minor": 5
}
